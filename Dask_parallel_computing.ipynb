{
  "nbformat": 4,
  "nbformat_minor": 0,
  "metadata": {
    "colab": {
      "provenance": [],
      "authorship_tag": "ABX9TyOL7KDKnVm+h92ThvYglfo1",
      "include_colab_link": true
    },
    "kernelspec": {
      "name": "python3",
      "display_name": "Python 3"
    },
    "language_info": {
      "name": "python"
    }
  },
  "cells": [
    {
      "cell_type": "markdown",
      "metadata": {
        "id": "view-in-github",
        "colab_type": "text"
      },
      "source": [
        "<a href=\"https://colab.research.google.com/github/AYurov28/AYurov28.github.io/blob/main/Dask_parallel_computing.ipynb\" target=\"_parent\"><img src=\"https://colab.research.google.com/assets/colab-badge.svg\" alt=\"Open In Colab\"/></a>"
      ]
    },
    {
      "cell_type": "code",
      "execution_count": null,
      "metadata": {
        "colab": {
          "base_uri": "https://localhost:8080/"
        },
        "id": "nfMvI-0EacBZ",
        "outputId": "48482b50-49dd-458c-ad4d-a38bc0858f5d"
      },
      "outputs": [
        {
          "output_type": "stream",
          "name": "stdout",
          "text": [
            "CPU times: user 19.4 ms, sys: 2.34 ms, total: 21.7 ms\n",
            "Wall time: 3 s\n"
          ]
        },
        {
          "output_type": "execute_result",
          "data": {
            "text/plain": [
              "5"
            ]
          },
          "metadata": {},
          "execution_count": 1
        }
      ],
      "source": [
        "%%time\n",
        "from time import sleep\n",
        "def inc(x):\n",
        "  sleep(1)\n",
        "  return x+1\n",
        "\n",
        "def add (x, y):\n",
        "  sleep(1)\n",
        "  return x+y\n",
        "\n",
        "x = inc(1)\n",
        "y = inc (2)\n",
        "z = add(x,y)\n",
        "z"
      ]
    },
    {
      "cell_type": "code",
      "source": [],
      "metadata": {
        "id": "8tPN742Bkks6"
      },
      "execution_count": null,
      "outputs": []
    },
    {
      "cell_type": "code",
      "source": [
        "%%time\n",
        "from dask import delayed\n",
        "\n",
        "@delayed\n",
        "def inc(x):\n",
        "  sleep(1)\n",
        "  return x+1\n",
        "@delayed\n",
        "def add(x, y):\n",
        "  sleep(1)\n",
        "  return x+y\n",
        "\n",
        "x = delayed (inc)(1)\n",
        "y = delayed (inc)(2)\n",
        "z = delayed (add)(x,y)\n",
        "z"
      ],
      "metadata": {
        "colab": {
          "base_uri": "https://localhost:8080/"
        },
        "id": "E7qdPZIrdTj2",
        "outputId": "fbfde90f-865e-47fe-91b3-f3d6368e8554"
      },
      "execution_count": null,
      "outputs": [
        {
          "output_type": "stream",
          "name": "stdout",
          "text": [
            "CPU times: user 1.17 ms, sys: 17 µs, total: 1.19 ms\n",
            "Wall time: 1.19 ms\n"
          ]
        },
        {
          "output_type": "execute_result",
          "data": {
            "text/plain": [
              "Delayed('add-021c98ee-a919-4920-82e7-bc96a9681107')"
            ]
          },
          "metadata": {},
          "execution_count": 13
        }
      ]
    },
    {
      "cell_type": "code",
      "source": [
        "%%time\n",
        "from dask import delayed\n",
        "\n",
        "@delayed\n",
        "def inc(x):\n",
        "  sleep(1)\n",
        "  return x+1\n",
        "@delayed\n",
        "def add (x, y):\n",
        "  sleep(1)\n",
        "  return x+y\n",
        "\n",
        "x = delayed (inc)(1)\n",
        "y = delayed (inc)(2)\n",
        "z = delayed (add)(x,y)\n",
        "z.visualize()"
      ],
      "metadata": {
        "colab": {
          "base_uri": "https://localhost:8080/",
          "height": 394
        },
        "id": "Q3FgLVbkeSzJ",
        "outputId": "17614c00-e900-4450-c90d-d48072d7f821"
      },
      "execution_count": null,
      "outputs": [
        {
          "output_type": "execute_result",
          "data": {
            "image/png": "[encoded data removed]",
            "text/plain": [
              "<IPython.core.display.Image object>"
            ]
          },
          "metadata": {},
          "execution_count": 4
        }
      ]
    },
    {
      "cell_type": "code",
      "source": [
        "%%time\n",
        "from dask import delayed\n",
        "\n",
        "@delayed   # added a decorator\n",
        "def inc(x):\n",
        "  sleep(1)\n",
        "  return x+1\n",
        "@delayed     # a decorator\n",
        "def add (x, y):\n",
        "  sleep(1)\n",
        "  return x+y\n",
        "\n",
        "x = delayed (inc)(1)\n",
        "y = delayed (inc)(2)\n",
        "z = delayed (add)(x,y)\n",
        "z.compute()"
      ],
      "metadata": {
        "colab": {
          "base_uri": "https://localhost:8080/"
        },
        "id": "MTlbrmp2eow3",
        "outputId": "00e10a1b-1022-4451-a0c6-967bf19a5688"
      },
      "execution_count": null,
      "outputs": [
        {
          "output_type": "stream",
          "name": "stdout",
          "text": [
            "CPU times: user 11.3 ms, sys: 127 µs, total: 11.5 ms\n",
            "Wall time: 2 s\n"
          ]
        },
        {
          "output_type": "execute_result",
          "data": {
            "text/plain": [
              "5"
            ]
          },
          "metadata": {},
          "execution_count": 12
        }
      ]
    },
    {
      "cell_type": "code",
      "source": [
        "%%time \n",
        "from time import sleep\n",
        "data = [1,2,3,4,5,6]\n",
        "result = []\n",
        "def inc(x):\n",
        "  sleep(1)\n",
        "  return x+1\n",
        "\n",
        "for i in data:\n",
        "  result.append(inc(i))\n",
        "\n",
        "total = sum(result)\n"
      ],
      "metadata": {
        "colab": {
          "base_uri": "https://localhost:8080/"
        },
        "id": "oM3AV7M9e1BJ",
        "outputId": "ea89e39b-f568-4642-d539-a1d4308c46b2"
      },
      "execution_count": null,
      "outputs": [
        {
          "output_type": "stream",
          "name": "stdout",
          "text": [
            "CPU times: user 27.5 ms, sys: 2.92 ms, total: 30.4 ms\n",
            "Wall time: 6.01 s\n"
          ]
        }
      ]
    },
    {
      "cell_type": "code",
      "source": [
        "#to do calculations in parallel we add a decorator\n",
        "\n",
        "%%time \n",
        "from time import sleep\n",
        "data = [1,2,3,4,5,6]\n",
        "result = []\n",
        "@delayed   # added a decorator\n",
        "def inc(x):\n",
        "  sleep(1)\n",
        "  return x+1\n",
        "\n",
        "for i in data:\n",
        "  result.append(delayed(inc)(i)) # added 'delayed'\n",
        "\n",
        "total = delayed(sum)(result)   # added 'delayed'\n",
        "total.compute()"
      ],
      "metadata": {
        "colab": {
          "base_uri": "https://localhost:8080/"
        },
        "id": "wFdtzAZ5fySI",
        "outputId": "e0f47f9d-32cf-4d47-bf04-375d43d4b397"
      },
      "execution_count": null,
      "outputs": [
        {
          "output_type": "stream",
          "name": "stdout",
          "text": [
            "CPU times: user 21.6 ms, sys: 5.05 ms, total: 26.7 ms\n",
            "Wall time: 3.02 s\n"
          ]
        },
        {
          "output_type": "execute_result",
          "data": {
            "text/plain": [
              "27"
            ]
          },
          "metadata": {},
          "execution_count": 9
        }
      ]
    },
    {
      "cell_type": "code",
      "source": [
        "#to do calculations in parallel we add a decorator\n",
        "# remove %%time\n",
        "# add 'total.visualize()'\n",
        "from time import sleep\n",
        "data = [1,2,3,4,5,6]\n",
        "result = []\n",
        "@delayed   # added a decorator\n",
        "def inc(x):\n",
        "  sleep(1)\n",
        "  return x+1\n",
        "\n",
        "for i in data:\n",
        "  result.append(delayed(inc)(i)) # added 'delayed'\n",
        "\n",
        "total = delayed(sum)(result)   # added 'delayed'\n",
        "total.visualize()"
      ],
      "metadata": {
        "colab": {
          "base_uri": "https://localhost:8080/",
          "height": 401
        },
        "id": "DEeNmVO0g3bz",
        "outputId": "5dde84a7-ad81-47dc-a5c0-df6edcc3bf4b"
      },
      "execution_count": null,
      "outputs": [
        {
          "output_type": "execute_result",
          "data": {
            "image/png": "[encoded data removed]",
            "text/plain": [
              "<IPython.core.display.Image object>"
            ]
          },
          "metadata": {},
          "execution_count": 11
        }
      ]
    },
    {
      "cell_type": "code",
      "source": [
        "from time import sleep\n",
        "\n",
        "def inc(x):\n",
        "    sleep(1)\n",
        "    return x + 1\n",
        "\n",
        "def add(x, y):\n",
        "    sleep(1)\n",
        "    return x + y"
      ],
      "metadata": {
        "id": "B8c-H41ukmqU"
      },
      "execution_count": null,
      "outputs": []
    },
    {
      "cell_type": "code",
      "source": [
        "%%time\n",
        "# Running the functions sequentially\n",
        "\n",
        "x = inc(1)\n",
        "y = inc(2)\n",
        "z = add(x, y)"
      ],
      "metadata": {
        "colab": {
          "base_uri": "https://localhost:8080/"
        },
        "id": "IzgXPVPZkr2c",
        "outputId": "2b24c704-0167-472c-ff78-26ad52a1f903"
      },
      "execution_count": null,
      "outputs": [
        {
          "output_type": "stream",
          "name": "stdout",
          "text": [
            "CPU times: user 14.2 ms, sys: 3.22 ms, total: 17.4 ms\n",
            "Wall time: 3 s\n"
          ]
        }
      ]
    },
    {
      "cell_type": "code",
      "source": [
        "from dask import delayed"
      ],
      "metadata": {
        "id": "aw8F-OHgkuKg"
      },
      "execution_count": null,
      "outputs": []
    },
    {
      "cell_type": "code",
      "source": [
        "%%time\n",
        "# Running the functions in parallel\n",
        "\n",
        "x = delayed(inc)(1)\n",
        "y = delayed(inc)(2)\n",
        "x_add_y = delayed(add)(x, y)"
      ],
      "metadata": {
        "colab": {
          "base_uri": "https://localhost:8080/"
        },
        "id": "PTGeteTvkz8n",
        "outputId": "b8140bcf-67f9-4985-f69b-d107dc9a0c68"
      },
      "execution_count": null,
      "outputs": [
        {
          "output_type": "stream",
          "name": "stdout",
          "text": [
            "CPU times: user 834 µs, sys: 0 ns, total: 834 µs\n",
            "Wall time: 790 µs\n"
          ]
        }
      ]
    },
    {
      "cell_type": "code",
      "source": [
        "%%time\n",
        "z = x_add_y.compute()\n",
        "print(z)"
      ],
      "metadata": {
        "colab": {
          "base_uri": "https://localhost:8080/"
        },
        "id": "jGKzJBdgk3mY",
        "outputId": "a130e49e-835e-476a-fc92-b7a47d26728f"
      },
      "execution_count": null,
      "outputs": [
        {
          "output_type": "stream",
          "name": "stdout",
          "text": [
            "5\n",
            "CPU times: user 12.6 ms, sys: 2.07 ms, total: 14.6 ms\n",
            "Wall time: 2.01 s\n"
          ]
        }
      ]
    },
    {
      "cell_type": "code",
      "source": [
        "x_add_y.visualize()"
      ],
      "metadata": {
        "colab": {
          "base_uri": "https://localhost:8080/",
          "height": 394
        },
        "id": "qJPdwKR5k77C",
        "outputId": "9db519e7-39d2-44c9-a424-8386eba78b54"
      },
      "execution_count": null,
      "outputs": [
        {
          "output_type": "execute_result",
          "data": {
            "image/png": "[encoded data removed]",
            "text/plain": [
              "<IPython.core.display.Image object>"
            ]
          },
          "metadata": {},
          "execution_count": 19
        }
      ]
    },
    {
      "cell_type": "code",
      "source": [
        "def double(x):\n",
        "    sleep(1)\n",
        "    return 2 * x\n",
        "\n",
        "def is_even(x):\n",
        "    return not x % 2\n",
        "\n",
        "def inc(x):\n",
        "    sleep(1)\n",
        "    return x + 1"
      ],
      "metadata": {
        "id": "lHNFH0ROlAgw"
      },
      "execution_count": null,
      "outputs": []
    },
    {
      "cell_type": "code",
      "source": [
        "%%time\n",
        "# Sequential code\n",
        "\n",
        "data = [1,2,3,4,5,6,7,8,9,10]\n",
        "\n",
        "results = []\n",
        "for x in data:\n",
        "    if is_even(x):\n",
        "        y = double(x)\n",
        "    else:\n",
        "        y = inc(x)\n",
        "    results.append(y)\n",
        "\n",
        "total = sum(results)\n",
        "print(total)"
      ],
      "metadata": {
        "colab": {
          "base_uri": "https://localhost:8080/"
        },
        "id": "RN4a8g-hlWYY",
        "outputId": "8eeed903-ab5a-4cb6-9624-27fe29b2b408"
      },
      "execution_count": null,
      "outputs": [
        {
          "output_type": "stream",
          "name": "stdout",
          "text": [
            "90\n",
            "CPU times: user 43.7 ms, sys: 2.25 ms, total: 45.9 ms\n",
            "Wall time: 10 s\n"
          ]
        }
      ]
    },
    {
      "cell_type": "code",
      "source": [
        "import dask\n",
        "import os\n",
        "import datetime\n",
        "\n",
        "if not os.path.exists('data'):  # create a directory 'data' with 30 csv files in it. Each file is c.6GB, hence a lot of data in each file\n",
        "    os.mkdir('data')\n",
        "\n",
        "def name(i): \n",
        "    return str(datetime.date(2000, 1, 1) + i * datetime.timedelta(days=1)) \n",
        "\n",
        "df = dask.datasets.timeseries()\n",
        "df.to_csv('data/*.csv', name_function=name)\n"
      ],
      "metadata": {
        "id": "zX-JPCnrpS6z",
        "colab": {
          "base_uri": "https://localhost:8080/"
        },
        "outputId": "456a2213-53cc-4400-fe40-58053560479f"
      },
      "execution_count": 24,
      "outputs": [
        {
          "output_type": "execute_result",
          "data": {
            "text/plain": [
              "['/content/data/2000-01-01.csv',\n",
              " '/content/data/2000-01-02.csv',\n",
              " '/content/data/2000-01-03.csv',\n",
              " '/content/data/2000-01-04.csv',\n",
              " '/content/data/2000-01-05.csv',\n",
              " '/content/data/2000-01-06.csv',\n",
              " '/content/data/2000-01-07.csv',\n",
              " '/content/data/2000-01-08.csv',\n",
              " '/content/data/2000-01-09.csv',\n",
              " '/content/data/2000-01-10.csv',\n",
              " '/content/data/2000-01-11.csv',\n",
              " '/content/data/2000-01-12.csv',\n",
              " '/content/data/2000-01-13.csv',\n",
              " '/content/data/2000-01-14.csv',\n",
              " '/content/data/2000-01-15.csv',\n",
              " '/content/data/2000-01-16.csv',\n",
              " '/content/data/2000-01-17.csv',\n",
              " '/content/data/2000-01-18.csv',\n",
              " '/content/data/2000-01-19.csv',\n",
              " '/content/data/2000-01-20.csv',\n",
              " '/content/data/2000-01-21.csv',\n",
              " '/content/data/2000-01-22.csv',\n",
              " '/content/data/2000-01-23.csv',\n",
              " '/content/data/2000-01-24.csv',\n",
              " '/content/data/2000-01-25.csv',\n",
              " '/content/data/2000-01-26.csv',\n",
              " '/content/data/2000-01-27.csv',\n",
              " '/content/data/2000-01-28.csv',\n",
              " '/content/data/2000-01-29.csv',\n",
              " '/content/data/2000-01-30.csv']"
            ]
          },
          "metadata": {},
          "execution_count": 24
        }
      ]
    },
    {
      "cell_type": "code",
      "source": [
        "#Using DASK to Create Multiple Files in Parallel\n",
        "\n",
        "import pandas as pd\n",
        "import dask.dataframe as dd\n",
        "\n",
        "# create pandas dataframe\n",
        "pandas_df = pd.DataFrame(\n",
        "    {\"odd_num\": [1, 3, 5, 7, 9], \"even_num\": [2, 4, 6, 8, 10]}\n",
        ")\n",
        "\n",
        "# set npartitions argument\n",
        "df = dd.from_pandas(pandas_df, npartitions=2)\n",
        "\n",
        "# Uncomment the line below if you are using Mac\n",
        "# df.to_csv(\"./activity22.1/\", index=False)\n",
        "\n",
        "# Uncomment the line below if you are using Windows\n",
        "df.to_csv(\"./activity22_1/\", index=False)\n"
      ],
      "metadata": {
        "colab": {
          "base_uri": "https://localhost:8080/"
        },
        "id": "p8txkmITGYn4",
        "outputId": "4f6cdcec-3261-4d97-a363-0a361eb94a31"
      },
      "execution_count": 25,
      "outputs": [
        {
          "output_type": "execute_result",
          "data": {
            "text/plain": [
              "['/content/activity22_1/0.part', '/content/activity22_1/1.part']"
            ]
          },
          "metadata": {},
          "execution_count": 25
        }
      ]
    },
    {
      "cell_type": "markdown",
      "source": [
        "# New section"
      ],
      "metadata": {
        "id": "XGLtRWHfpd3y"
      }
    }
  ]
}